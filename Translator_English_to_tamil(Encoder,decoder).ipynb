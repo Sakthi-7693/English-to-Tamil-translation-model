{
  "cells": [
    {
      "cell_type": "markdown",
      "metadata": {
        "id": "LMOwrnS8W7af"
      },
      "source": [
        "Hi, Now I am going to create a model for English to Tamil translation from scrach. Here I am going to use LSTM Model with the concept of Encoder, Decoder and Attention Model. Let have a look below.\n",
        "\n",
        "Data Preprocessing: Tokenize, pad, and create vocabulary.\n",
        "\n",
        "Encoder-Decoder Model:\n",
        "\n",
        "Encoder: Processes English input into a context vector.\n",
        "\n",
        "Decoder: Uses the context vector to generate Tamil output word-by-word.\n",
        "\n",
        "Embedding Layer: Converts words into dense vectors for better understanding.\n",
        "\n",
        "LSTM: Handles the sequence data for both encoder and decoder.\n",
        "\n",
        "Attention Mechanism (Optional): Helps focus on specific parts of the input sentence during decoding.\n",
        "\n"
      ]
    },
    {
      "cell_type": "code",
      "execution_count": null,
      "metadata": {
        "id": "Eu6MXIAiXV6-"
      },
      "outputs": [],
      "source": [
        "import pandas as pd\n",
        "import numpy as np\n",
        "import seaborn as sns\n",
        "import keras\n",
        "import tensorflow as tf\n",
        "import matplotlib.pyplot as plt\n",
        "from google.colab import drive"
      ]
    },
    {
      "cell_type": "code",
      "execution_count": null,
      "metadata": {
        "colab": {
          "base_uri": "https://localhost:8080/"
        },
        "id": "ij6V1V6UXVsR",
        "outputId": "34627d81-6596-44af-efdc-2d8d351229ba"
      },
      "outputs": [
        {
          "name": "stdout",
          "output_type": "stream",
          "text": [
            "Mounted at /content/driven\n"
          ]
        }
      ],
      "source": [
        "drive.mount('/content/driven')"
      ]
    },
    {
      "cell_type": "code",
      "execution_count": null,
      "metadata": {
        "id": "xKyDp4zsCHfo"
      },
      "outputs": [],
      "source": [
        "English = open('/content/driven/MyDrive/Translation data-Eng-Tam/train.eng_Latn','r')\n",
        "Tamil = open('/content/driven/MyDrive/Translation data-Eng-Tam/train.tam_Taml','r')"
      ]
    },
    {
      "cell_type": "code",
      "execution_count": null,
      "metadata": {
        "id": "c_lr1x80CXsZ"
      },
      "outputs": [],
      "source": [
        "data = pd.DataFrame({'English': English,\n",
        "    'Tamil': Tamil\n",
        "})"
      ]
    },
    {
      "cell_type": "code",
      "execution_count": null,
      "metadata": {
        "colab": {
          "base_uri": "https://localhost:8080/",
          "height": 423
        },
        "id": "HEFPl3C1CdIg",
        "outputId": "bef3458f-82f6-4191-b64e-a640c3261554"
      },
      "outputs": [
        {
          "data": {
            "application/vnd.google.colaboratory.intrinsic+json": {
              "summary": "{\n  \"name\": \"data\",\n  \"rows\": 66969,\n  \"fields\": [\n    {\n      \"column\": \"English\",\n      \"properties\": {\n        \"dtype\": \"string\",\n        \"num_unique_values\": 66613,\n        \"samples\": [\n          \"Referees often use derby names as well, often shown on the backs of their striped uniforms.\\n\",\n          \"It was brought by Protestant missionaries to Manipur in the 19th century.\\n\",\n          \"The Indian Army has control over a large part of the state, as Sikkim forms part of a sensitive border area with China.\\n\"\n        ],\n        \"semantic_type\": \"\",\n        \"description\": \"\"\n      }\n    },\n    {\n      \"column\": \"Tamil\",\n      \"properties\": {\n        \"dtype\": \"string\",\n        \"num_unique_values\": 66932,\n        \"samples\": [\n          \"\\u0b85\\u0ba4\\u0bbf\\u0b95\\u0bae\\u0bbe\\u0b95\\u0baa\\u0bcd \\u0baa\\u0bc7\\u0b9a\\u0baa\\u0bcd\\u0baa\\u0b9f\\u0bc1\\u0bae\\u0bcd \\u0bae\\u0bca\\u0bb4\\u0bbf\\u0b95\\u0bb3\\u0bbf\\u0bb2\\u0bcd \\u0b9f\\u0bcb\\u0b95\\u0bcd\\u0bb0\\u0bbf\\u0bae\\u0bca\\u0bb4\\u0bbf \\u0b87\\u0bb0\\u0ba3\\u0bcd\\u0b9f\\u0bbe\\u0bb5\\u0ba4\\u0bc1 \\u0b87\\u0b9f\\u0ba4\\u0bcd\\u0ba4\\u0bbf\\u0bb2\\u0bcd \\u0b89\\u0bb3\\u0bcd\\u0bb3\\u0ba4\\u0bc1, \\u0bae\\u0b95\\u0bcd\\u0b95\\u0bb3\\u0bcd \\u0ba4\\u0bca\\u0b95\\u0bc8\\u0baf\\u0bbf\\u0bb2\\u0bcd 20% \\u0baa\\u0bc7\\u0bb0\\u0bcd \\u0b87\\u0bae\\u0bcd \\u0bae\\u0bca\\u0bb4\\u0bbf\\u0baf\\u0bc8\\u0baa\\u0bcd \\u0baa\\u0bc7\\u0b9a\\u0bc1\\u0b95\\u0bbf\\u0ba9\\u0bcd\\u0bb1\\u0ba9\\u0bb0\\u0bcd.\\n\",\n          \"\\u0bb2\\u0bbe\\u0bb8\\u0bcd \\u0b8f\\u0b9e\\u0bcd\\u0b9a\\u0bb2\\u0bcd\\u0bb8\\u0bcd \\u0b86\\u0b9a\\u0bbf\\u0baf \\u0b9a\\u0bae\\u0bc2\\u0b95\\u0bae\\u0bc1\\u0bae\\u0bcd \\u0ba8\\u0bbe\\u0bb0\\u0bcd\\u0ba4\\u0bcd\\u0bb0\\u0bcb\\u0baa\\u0bcd \\u0b85\\u0ba3\\u0bbf\\u0baf\\u0bc1\\u0bae\\u0bcd \\u0b8f\\u0bb1\\u0bcd\\u0b95\\u0ba9\\u0bb5\\u0bc7 \\u0ba8\\u0b95\\u0bb0\\u0ba4\\u0bcd\\u0ba4\\u0bbf\\u0bb2\\u0bc1\\u0bae\\u0bcd \\u0b85\\u0ba4\\u0bc8\\u0b9a\\u0bcd \\u0b9a\\u0bc1\\u0bb1\\u0bcd\\u0bb1\\u0bbf\\u0bb2\\u0bc1\\u0bae\\u0bcd \\u0b92\\u0bb0\\u0bc1 \\u0ba4\\u0b95\\u0bcd\\u0bb0\\u0bbe \\u0b9a\\u0bae\\u0bc2\\u0b95\\u0ba4\\u0bcd\\u0ba4\\u0bc8 \\u0b89\\u0bb0\\u0bc1\\u0bb5\\u0bbe\\u0b95\\u0bcd\\u0b95\\u0bbf\\u0baf\\u0bbf\\u0bb0\\u0bc1\\u0ba8\\u0bcd\\u0ba4\\u0ba9.\\n\",\n          \"\\u0baa\\u0bc1\\u0bb1 \\u0b8a\\u0ba4\\u0bbe \\u0b95\\u0ba4\\u0bbf\\u0bb0\\u0bcd\\u0bb5\\u0bc0\\u0b9a\\u0bcd\\u0b9a\\u0bc1 \\u0ba4\\u0bcb\\u0bb2\\u0bbf\\u0bb2\\u0bcd \\u0b92\\u0bb0\\u0bc1 \\u0ba4\\u0bc0\\u0bb5\\u0bbf\\u0bb0 \\u0b8e\\u0ba4\\u0bbf\\u0bb0\\u0bcd\\u0bb5\\u0bbf\\u0ba9\\u0bc8\\u0baf\\u0bc8\\u0ba4\\u0bcd \\u0ba4\\u0bca\\u0b9f\\u0b99\\u0bcd\\u0b95\\u0bc1\\u0b95\\u0bbf\\u0bb1\\u0ba4\\u0bc1, \\u0b87\\u0ba4\\u0bc1 \\u0bb5\\u0bc8\\u0b9f\\u0bcd\\u0b9f\\u0bae\\u0bbf\\u0ba9\\u0bcd \\u0b9f\\u0bbf \\u0b89\\u0bb1\\u0bcd\\u0baa\\u0ba4\\u0bcd\\u0ba4\\u0bbf\\u0b95\\u0bcd\\u0b95\\u0bc1 \\u0bb5\\u0bb4\\u0bbf\\u0bb5\\u0b95\\u0bc1\\u0b95\\u0bcd\\u0b95\\u0bbf\\u0bb1\\u0ba4\\u0bc1.\\n\"\n        ],\n        \"semantic_type\": \"\",\n        \"description\": \"\"\n      }\n    }\n  ]\n}",
              "type": "dataframe",
              "variable_name": "data"
            },
            "text/html": [
              "\n",
              "  <div id=\"df-12f619cf-fe00-47a2-b843-5f57fce341fa\" class=\"colab-df-container\">\n",
              "    <div>\n",
              "<style scoped>\n",
              "    .dataframe tbody tr th:only-of-type {\n",
              "        vertical-align: middle;\n",
              "    }\n",
              "\n",
              "    .dataframe tbody tr th {\n",
              "        vertical-align: top;\n",
              "    }\n",
              "\n",
              "    .dataframe thead th {\n",
              "        text-align: right;\n",
              "    }\n",
              "</style>\n",
              "<table border=\"1\" class=\"dataframe\">\n",
              "  <thead>\n",
              "    <tr style=\"text-align: right;\">\n",
              "      <th></th>\n",
              "      <th>English</th>\n",
              "      <th>Tamil</th>\n",
              "    </tr>\n",
              "  </thead>\n",
              "  <tbody>\n",
              "    <tr>\n",
              "      <th>0</th>\n",
              "      <td>Jens Lehmann became the first player to be sen...</td>\n",
              "      <td>சாமுவேல் எட்டோவை வீழ்த்தியதன் மூலம் ஜென்ஸ் லெஹ...</td>\n",
              "    </tr>\n",
              "    <tr>\n",
              "      <th>1</th>\n",
              "      <td>Nigeria's best chance of the game was also in ...</td>\n",
              "      <td>நைஜீரிய அணிக்கும் கோலை அடிப்பதற்கான சிறந்த வாய...</td>\n",
              "    </tr>\n",
              "    <tr>\n",
              "      <th>2</th>\n",
              "      <td>Williams has previously represented the Wales ...</td>\n",
              "      <td>வில்லியம்ஸ் முன்பு 21 வயதுக்கு உட்பட்டோருக்கான...</td>\n",
              "    </tr>\n",
              "    <tr>\n",
              "      <th>3</th>\n",
              "      <td>Further in the match, Carvajal was yellow card...</td>\n",
              "      <td>மேலும் இந்தப் போட்டியில், கர்வஜலுக்கு 83வது நி...</td>\n",
              "    </tr>\n",
              "    <tr>\n",
              "      <th>4</th>\n",
              "      <td>Yesterday, the German football club FC Bayern ...</td>\n",
              "      <td>நேற்று, ஜெர்மன் கால்பந்து கிளப் எஃப்சி பேயர்ன்...</td>\n",
              "    </tr>\n",
              "    <tr>\n",
              "      <th>...</th>\n",
              "      <td>...</td>\n",
              "      <td>...</td>\n",
              "    </tr>\n",
              "    <tr>\n",
              "      <th>66964</th>\n",
              "      <td>He is named on the Philadelphia Eagles Honor R...</td>\n",
              "      <td>பிலடெல்ஃபியா ஈகிள்ஸ் மதிப்பு பட்டியலில் அவர் ப...</td>\n",
              "    </tr>\n",
              "    <tr>\n",
              "      <th>66965</th>\n",
              "      <td>He played college football at the University o...</td>\n",
              "      <td>அவர் மிச்சிகன் பல்கலைக் கழகத்தில் நடைபெற்ற கல்...</td>\n",
              "    </tr>\n",
              "    <tr>\n",
              "      <th>66966</th>\n",
              "      <td>Sulon played for RFC Liège, UR Namur, RES Jamb...</td>\n",
              "      <td>ஆர்எஃப்சி லீக், யூஆர் நமூர், ஆர்ஈஎஸ் ஜம்போய்ஸ்...</td>\n",
              "    </tr>\n",
              "    <tr>\n",
              "      <th>66967</th>\n",
              "      <td>He plays for Austrian Bundesliga club FC Red B...</td>\n",
              "      <td>அவர் ஆஸ்திரிய புண்டஸ்லிகா எஃப்சி ரெட் புல் சால...</td>\n",
              "    </tr>\n",
              "    <tr>\n",
              "      <th>66968</th>\n",
              "      <td>The signing was a then British record fee of £...</td>\n",
              "      <td>£45,000 தான் அப்போதைய பிரிட்டிஷ் வரலற்றில் கைய...</td>\n",
              "    </tr>\n",
              "  </tbody>\n",
              "</table>\n",
              "<p>66969 rows × 2 columns</p>\n",
              "</div>\n",
              "    <div class=\"colab-df-buttons\">\n",
              "\n",
              "  <div class=\"colab-df-container\">\n",
              "    <button class=\"colab-df-convert\" onclick=\"convertToInteractive('df-12f619cf-fe00-47a2-b843-5f57fce341fa')\"\n",
              "            title=\"Convert this dataframe to an interactive table.\"\n",
              "            style=\"display:none;\">\n",
              "\n",
              "  <svg xmlns=\"http://www.w3.org/2000/svg\" height=\"24px\" viewBox=\"0 -960 960 960\">\n",
              "    <path d=\"M120-120v-720h720v720H120Zm60-500h600v-160H180v160Zm220 220h160v-160H400v160Zm0 220h160v-160H400v160ZM180-400h160v-160H180v160Zm440 0h160v-160H620v160ZM180-180h160v-160H180v160Zm440 0h160v-160H620v160Z\"/>\n",
              "  </svg>\n",
              "    </button>\n",
              "\n",
              "  <style>\n",
              "    .colab-df-container {\n",
              "      display:flex;\n",
              "      gap: 12px;\n",
              "    }\n",
              "\n",
              "    .colab-df-convert {\n",
              "      background-color: #E8F0FE;\n",
              "      border: none;\n",
              "      border-radius: 50%;\n",
              "      cursor: pointer;\n",
              "      display: none;\n",
              "      fill: #1967D2;\n",
              "      height: 32px;\n",
              "      padding: 0 0 0 0;\n",
              "      width: 32px;\n",
              "    }\n",
              "\n",
              "    .colab-df-convert:hover {\n",
              "      background-color: #E2EBFA;\n",
              "      box-shadow: 0px 1px 2px rgba(60, 64, 67, 0.3), 0px 1px 3px 1px rgba(60, 64, 67, 0.15);\n",
              "      fill: #174EA6;\n",
              "    }\n",
              "\n",
              "    .colab-df-buttons div {\n",
              "      margin-bottom: 4px;\n",
              "    }\n",
              "\n",
              "    [theme=dark] .colab-df-convert {\n",
              "      background-color: #3B4455;\n",
              "      fill: #D2E3FC;\n",
              "    }\n",
              "\n",
              "    [theme=dark] .colab-df-convert:hover {\n",
              "      background-color: #434B5C;\n",
              "      box-shadow: 0px 1px 3px 1px rgba(0, 0, 0, 0.15);\n",
              "      filter: drop-shadow(0px 1px 2px rgba(0, 0, 0, 0.3));\n",
              "      fill: #FFFFFF;\n",
              "    }\n",
              "  </style>\n",
              "\n",
              "    <script>\n",
              "      const buttonEl =\n",
              "        document.querySelector('#df-12f619cf-fe00-47a2-b843-5f57fce341fa button.colab-df-convert');\n",
              "      buttonEl.style.display =\n",
              "        google.colab.kernel.accessAllowed ? 'block' : 'none';\n",
              "\n",
              "      async function convertToInteractive(key) {\n",
              "        const element = document.querySelector('#df-12f619cf-fe00-47a2-b843-5f57fce341fa');\n",
              "        const dataTable =\n",
              "          await google.colab.kernel.invokeFunction('convertToInteractive',\n",
              "                                                    [key], {});\n",
              "        if (!dataTable) return;\n",
              "\n",
              "        const docLinkHtml = 'Like what you see? Visit the ' +\n",
              "          '<a target=\"_blank\" href=https://colab.research.google.com/notebooks/data_table.ipynb>data table notebook</a>'\n",
              "          + ' to learn more about interactive tables.';\n",
              "        element.innerHTML = '';\n",
              "        dataTable['output_type'] = 'display_data';\n",
              "        await google.colab.output.renderOutput(dataTable, element);\n",
              "        const docLink = document.createElement('div');\n",
              "        docLink.innerHTML = docLinkHtml;\n",
              "        element.appendChild(docLink);\n",
              "      }\n",
              "    </script>\n",
              "  </div>\n",
              "\n",
              "\n",
              "<div id=\"df-8b947a58-5942-464e-af16-02db9b62bb3a\">\n",
              "  <button class=\"colab-df-quickchart\" onclick=\"quickchart('df-8b947a58-5942-464e-af16-02db9b62bb3a')\"\n",
              "            title=\"Suggest charts\"\n",
              "            style=\"display:none;\">\n",
              "\n",
              "<svg xmlns=\"http://www.w3.org/2000/svg\" height=\"24px\"viewBox=\"0 0 24 24\"\n",
              "     width=\"24px\">\n",
              "    <g>\n",
              "        <path d=\"M19 3H5c-1.1 0-2 .9-2 2v14c0 1.1.9 2 2 2h14c1.1 0 2-.9 2-2V5c0-1.1-.9-2-2-2zM9 17H7v-7h2v7zm4 0h-2V7h2v10zm4 0h-2v-4h2v4z\"/>\n",
              "    </g>\n",
              "</svg>\n",
              "  </button>\n",
              "\n",
              "<style>\n",
              "  .colab-df-quickchart {\n",
              "      --bg-color: #E8F0FE;\n",
              "      --fill-color: #1967D2;\n",
              "      --hover-bg-color: #E2EBFA;\n",
              "      --hover-fill-color: #174EA6;\n",
              "      --disabled-fill-color: #AAA;\n",
              "      --disabled-bg-color: #DDD;\n",
              "  }\n",
              "\n",
              "  [theme=dark] .colab-df-quickchart {\n",
              "      --bg-color: #3B4455;\n",
              "      --fill-color: #D2E3FC;\n",
              "      --hover-bg-color: #434B5C;\n",
              "      --hover-fill-color: #FFFFFF;\n",
              "      --disabled-bg-color: #3B4455;\n",
              "      --disabled-fill-color: #666;\n",
              "  }\n",
              "\n",
              "  .colab-df-quickchart {\n",
              "    background-color: var(--bg-color);\n",
              "    border: none;\n",
              "    border-radius: 50%;\n",
              "    cursor: pointer;\n",
              "    display: none;\n",
              "    fill: var(--fill-color);\n",
              "    height: 32px;\n",
              "    padding: 0;\n",
              "    width: 32px;\n",
              "  }\n",
              "\n",
              "  .colab-df-quickchart:hover {\n",
              "    background-color: var(--hover-bg-color);\n",
              "    box-shadow: 0 1px 2px rgba(60, 64, 67, 0.3), 0 1px 3px 1px rgba(60, 64, 67, 0.15);\n",
              "    fill: var(--button-hover-fill-color);\n",
              "  }\n",
              "\n",
              "  .colab-df-quickchart-complete:disabled,\n",
              "  .colab-df-quickchart-complete:disabled:hover {\n",
              "    background-color: var(--disabled-bg-color);\n",
              "    fill: var(--disabled-fill-color);\n",
              "    box-shadow: none;\n",
              "  }\n",
              "\n",
              "  .colab-df-spinner {\n",
              "    border: 2px solid var(--fill-color);\n",
              "    border-color: transparent;\n",
              "    border-bottom-color: var(--fill-color);\n",
              "    animation:\n",
              "      spin 1s steps(1) infinite;\n",
              "  }\n",
              "\n",
              "  @keyframes spin {\n",
              "    0% {\n",
              "      border-color: transparent;\n",
              "      border-bottom-color: var(--fill-color);\n",
              "      border-left-color: var(--fill-color);\n",
              "    }\n",
              "    20% {\n",
              "      border-color: transparent;\n",
              "      border-left-color: var(--fill-color);\n",
              "      border-top-color: var(--fill-color);\n",
              "    }\n",
              "    30% {\n",
              "      border-color: transparent;\n",
              "      border-left-color: var(--fill-color);\n",
              "      border-top-color: var(--fill-color);\n",
              "      border-right-color: var(--fill-color);\n",
              "    }\n",
              "    40% {\n",
              "      border-color: transparent;\n",
              "      border-right-color: var(--fill-color);\n",
              "      border-top-color: var(--fill-color);\n",
              "    }\n",
              "    60% {\n",
              "      border-color: transparent;\n",
              "      border-right-color: var(--fill-color);\n",
              "    }\n",
              "    80% {\n",
              "      border-color: transparent;\n",
              "      border-right-color: var(--fill-color);\n",
              "      border-bottom-color: var(--fill-color);\n",
              "    }\n",
              "    90% {\n",
              "      border-color: transparent;\n",
              "      border-bottom-color: var(--fill-color);\n",
              "    }\n",
              "  }\n",
              "</style>\n",
              "\n",
              "  <script>\n",
              "    async function quickchart(key) {\n",
              "      const quickchartButtonEl =\n",
              "        document.querySelector('#' + key + ' button');\n",
              "      quickchartButtonEl.disabled = true;  // To prevent multiple clicks.\n",
              "      quickchartButtonEl.classList.add('colab-df-spinner');\n",
              "      try {\n",
              "        const charts = await google.colab.kernel.invokeFunction(\n",
              "            'suggestCharts', [key], {});\n",
              "      } catch (error) {\n",
              "        console.error('Error during call to suggestCharts:', error);\n",
              "      }\n",
              "      quickchartButtonEl.classList.remove('colab-df-spinner');\n",
              "      quickchartButtonEl.classList.add('colab-df-quickchart-complete');\n",
              "    }\n",
              "    (() => {\n",
              "      let quickchartButtonEl =\n",
              "        document.querySelector('#df-8b947a58-5942-464e-af16-02db9b62bb3a button');\n",
              "      quickchartButtonEl.style.display =\n",
              "        google.colab.kernel.accessAllowed ? 'block' : 'none';\n",
              "    })();\n",
              "  </script>\n",
              "</div>\n",
              "\n",
              "  <div id=\"id_5065460f-a741-459f-b259-32c3146cc592\">\n",
              "    <style>\n",
              "      .colab-df-generate {\n",
              "        background-color: #E8F0FE;\n",
              "        border: none;\n",
              "        border-radius: 50%;\n",
              "        cursor: pointer;\n",
              "        display: none;\n",
              "        fill: #1967D2;\n",
              "        height: 32px;\n",
              "        padding: 0 0 0 0;\n",
              "        width: 32px;\n",
              "      }\n",
              "\n",
              "      .colab-df-generate:hover {\n",
              "        background-color: #E2EBFA;\n",
              "        box-shadow: 0px 1px 2px rgba(60, 64, 67, 0.3), 0px 1px 3px 1px rgba(60, 64, 67, 0.15);\n",
              "        fill: #174EA6;\n",
              "      }\n",
              "\n",
              "      [theme=dark] .colab-df-generate {\n",
              "        background-color: #3B4455;\n",
              "        fill: #D2E3FC;\n",
              "      }\n",
              "\n",
              "      [theme=dark] .colab-df-generate:hover {\n",
              "        background-color: #434B5C;\n",
              "        box-shadow: 0px 1px 3px 1px rgba(0, 0, 0, 0.15);\n",
              "        filter: drop-shadow(0px 1px 2px rgba(0, 0, 0, 0.3));\n",
              "        fill: #FFFFFF;\n",
              "      }\n",
              "    </style>\n",
              "    <button class=\"colab-df-generate\" onclick=\"generateWithVariable('data')\"\n",
              "            title=\"Generate code using this dataframe.\"\n",
              "            style=\"display:none;\">\n",
              "\n",
              "  <svg xmlns=\"http://www.w3.org/2000/svg\" height=\"24px\"viewBox=\"0 0 24 24\"\n",
              "       width=\"24px\">\n",
              "    <path d=\"M7,19H8.4L18.45,9,17,7.55,7,17.6ZM5,21V16.75L18.45,3.32a2,2,0,0,1,2.83,0l1.4,1.43a1.91,1.91,0,0,1,.58,1.4,1.91,1.91,0,0,1-.58,1.4L9.25,21ZM18.45,9,17,7.55Zm-12,3A5.31,5.31,0,0,0,4.9,8.1,5.31,5.31,0,0,0,1,6.5,5.31,5.31,0,0,0,4.9,4.9,5.31,5.31,0,0,0,6.5,1,5.31,5.31,0,0,0,8.1,4.9,5.31,5.31,0,0,0,12,6.5,5.46,5.46,0,0,0,6.5,12Z\"/>\n",
              "  </svg>\n",
              "    </button>\n",
              "    <script>\n",
              "      (() => {\n",
              "      const buttonEl =\n",
              "        document.querySelector('#id_5065460f-a741-459f-b259-32c3146cc592 button.colab-df-generate');\n",
              "      buttonEl.style.display =\n",
              "        google.colab.kernel.accessAllowed ? 'block' : 'none';\n",
              "\n",
              "      buttonEl.onclick = () => {\n",
              "        google.colab.notebook.generateWithVariable('data');\n",
              "      }\n",
              "      })();\n",
              "    </script>\n",
              "  </div>\n",
              "\n",
              "    </div>\n",
              "  </div>\n"
            ],
            "text/plain": [
              "                                                 English  \\\n",
              "0      Jens Lehmann became the first player to be sen...   \n",
              "1      Nigeria's best chance of the game was also in ...   \n",
              "2      Williams has previously represented the Wales ...   \n",
              "3      Further in the match, Carvajal was yellow card...   \n",
              "4      Yesterday, the German football club FC Bayern ...   \n",
              "...                                                  ...   \n",
              "66964  He is named on the Philadelphia Eagles Honor R...   \n",
              "66965  He played college football at the University o...   \n",
              "66966  Sulon played for RFC Liège, UR Namur, RES Jamb...   \n",
              "66967  He plays for Austrian Bundesliga club FC Red B...   \n",
              "66968  The signing was a then British record fee of £...   \n",
              "\n",
              "                                                   Tamil  \n",
              "0      சாமுவேல் எட்டோவை வீழ்த்தியதன் மூலம் ஜென்ஸ் லெஹ...  \n",
              "1      நைஜீரிய அணிக்கும் கோலை அடிப்பதற்கான சிறந்த வாய...  \n",
              "2      வில்லியம்ஸ் முன்பு 21 வயதுக்கு உட்பட்டோருக்கான...  \n",
              "3      மேலும் இந்தப் போட்டியில், கர்வஜலுக்கு 83வது நி...  \n",
              "4      நேற்று, ஜெர்மன் கால்பந்து கிளப் எஃப்சி பேயர்ன்...  \n",
              "...                                                  ...  \n",
              "66964  பிலடெல்ஃபியா ஈகிள்ஸ் மதிப்பு பட்டியலில் அவர் ப...  \n",
              "66965  அவர் மிச்சிகன் பல்கலைக் கழகத்தில் நடைபெற்ற கல்...  \n",
              "66966  ஆர்எஃப்சி லீக், யூஆர் நமூர், ஆர்ஈஎஸ் ஜம்போய்ஸ்...  \n",
              "66967  அவர் ஆஸ்திரிய புண்டஸ்லிகா எஃப்சி ரெட் புல் சால...  \n",
              "66968  £45,000 தான் அப்போதைய பிரிட்டிஷ் வரலற்றில் கைய...  \n",
              "\n",
              "[66969 rows x 2 columns]"
            ]
          },
          "execution_count": 89,
          "metadata": {},
          "output_type": "execute_result"
        }
      ],
      "source": [
        "data"
      ]
    },
    {
      "cell_type": "code",
      "execution_count": null,
      "metadata": {
        "id": "TJrCAKRfGM64"
      },
      "outputs": [],
      "source": [
        "data['English'] = data['English'].iloc[:10000]\n",
        "data['Tamil'] = data['Tamil'].iloc[:10000]"
      ]
    },
    {
      "cell_type": "code",
      "execution_count": null,
      "metadata": {
        "id": "dzsrd5vbGD83"
      },
      "outputs": [],
      "source": [
        "data.dropna(inplace=True)"
      ]
    },
    {
      "cell_type": "code",
      "execution_count": null,
      "metadata": {
        "colab": {
          "base_uri": "https://localhost:8080/",
          "height": 423
        },
        "id": "Pwl3Ktk7G0C-",
        "outputId": "cd6633dd-3fd9-4b39-c4f4-9b5a9ee585ac"
      },
      "outputs": [
        {
          "data": {
            "application/vnd.google.colaboratory.intrinsic+json": {
              "summary": "{\n  \"name\": \"data\",\n  \"rows\": 2000,\n  \"fields\": [\n    {\n      \"column\": \"English\",\n      \"properties\": {\n        \"dtype\": \"string\",\n        \"num_unique_values\": 1996,\n        \"samples\": [\n          \"After the 4-1 victory over Argentina, Brazil won this year's Confederations Cup yesterday.\\n\",\n          \"In 1891, the British colonial government annexed Manipur into its Empire, marking an end to its golden era of creative systematization and expansion of Manipuri dance.\\n\",\n          \"UEFA have already investigated Celtic for lack of security for the same incident.\\n\"\n        ],\n        \"semantic_type\": \"\",\n        \"description\": \"\"\n      }\n    },\n    {\n      \"column\": \"Tamil\",\n      \"properties\": {\n        \"dtype\": \"string\",\n        \"num_unique_values\": 2000,\n        \"samples\": [\n          \"\\u0bb5\\u0bbf\\u0bb3\\u0bc8\\u0baf\\u0bbe\\u0b9f\\u0bcd\\u0b9f\\u0bc1 \\u0bae\\u0bc1\\u0b9f\\u0bbf\\u0ba8\\u0bcd\\u0ba4 \\u0baa\\u0bbf\\u0bb1\\u0b95\\u0bc1 \\u0bb9\\u0bbe\\u0bb0\\u0bcd\\u0baa\\u0bb0\\u0bc1\\u0bae\\u0bcd \\u0b85\\u0bb5\\u0bb0\\u0ba4\\u0bc1 \\u0bae\\u0b95\\u0ba9\\u0bc1\\u0bae\\u0bcd \\u0b9f\\u0bca\\u0bb0\\u0bbe\\u0ba3\\u0bcd\\u0b9f\\u0bcb \\u0b85\\u0ba3\\u0bbf\\u0baf\\u0bbf\\u0ba9\\u0bcd \\u0b89\\u0bb1\\u0bc1\\u0baa\\u0bcd\\u0baa\\u0bbf\\u0ba9\\u0bb0\\u0bcd\\u0b95\\u0bb3\\u0bc8 \\u0b9a\\u0ba8\\u0bcd\\u0ba4\\u0bbf\\u0ba4\\u0bcd\\u0ba4\\u0ba9\\u0bb0\\u0bcd.\\n\",\n          \"\\u0baa\\u0ba9\\u0bbf\\u0b95\\u0bcd\\u0b95\\u0b9f\\u0bcd\\u0b9f\\u0bbf\\u0baf\\u0bbf\\u0bb2\\u0bcd \\u0b87\\u0bb0\\u0bc1\\u0ba8\\u0bcd\\u0ba4\\u0bc1 \\u0bb8\\u0bcd\\u0bb2\\u0bc6\\u0b9f\\u0bcd\\u0b9c\\u0bbf\\u0ba9\\u0bcd \\u0b89\\u0baf\\u0bb0\\u0bae\\u0bcd \\u0baa\\u0b95\\u0bcd \\u0b85\\u0ba4\\u0ba9\\u0bcd \\u0b95\\u0bc0\\u0bb4\\u0bcd \\u0b9a\\u0bc6\\u0bb2\\u0bcd\\u0bb2\\u0b95\\u0bcd\\u0b95\\u0bc2\\u0b9f\\u0bbf\\u0baf \\u0b85\\u0bb3\\u0bb5\\u0bc1\\u0b95\\u0bcd\\u0b95\\u0bc1 \\u0b85\\u0ba4\\u0bbf\\u0b95\\u0bae\\u0bbe\\u0b95 \\u0b89\\u0bb3\\u0bcd\\u0bb3\\u0ba4\\u0bc1.\\n\",\n          \"\\u0b87\\u0ba8\\u0bcd\\u0ba4\\u0bbf\\u0baf\\u0bbe\\u0bb5\\u0bbf\\u0ba9\\u0bcd \\u0ba4\\u0bc1\\u0baa\\u0bc2\\u0bb0\\u0bbf\\u0b95\\u0bcd\\u0b95\\u0bc1 \\u0b95\\u0bc0\\u0bb4\\u0bc7 \\u0b89\\u0bb3\\u0bcd\\u0bb3 \\u0b95\\u0bbe\\u0bb0\\u0bcb \\u0bae\\u0bb2\\u0bc8\\u0b95\\u0bb3\\u0bbf\\u0bb2\\u0bcd \\u0baa\\u0bbe\\u0baf\\u0bcd\\u0ba8\\u0bcd\\u0ba4\\u0bc1 \\u0ba4\\u0bc6\\u0bb1\\u0bcd\\u0b95\\u0bc1 \\u0ba8\\u0bcb\\u0b95\\u0bcd\\u0b95\\u0bbf\\u0ba4\\u0bcd \\u0ba4\\u0bbf\\u0bb0\\u0bc1\\u0bae\\u0bcd\\u0baa\\u0bbf\\u0bae\\u0bcd \\u0baa\\u0bbf\\u0bb0\\u0bae\\u0bcd\\u0bae\\u0baa\\u0bc1\\u0ba4\\u0bcd\\u0ba4\\u0bbf\\u0bb0\\u0bbe \\u0ba8\\u0ba4\\u0bbf \\u0baa\\u0b99\\u0bcd\\u0b95\\u0bb3\\u0bbe\\u0ba4\\u0bc7\\u0bb7\\u0bbf\\u0bb2\\u0bcd \\u0b89\\u0bb3\\u0bcd\\u0bb3 \\u0b9a\\u0bae\\u0bb5\\u0bc6\\u0bb3\\u0bbf\\u0baf\\u0bbf\\u0bb2\\u0bcd \\u0ba8\\u0bc1\\u0bb4\\u0bc8\\u0b95\\u0bbf\\u0bb1\\u0ba4\\u0bc1.\\n\"\n        ],\n        \"semantic_type\": \"\",\n        \"description\": \"\"\n      }\n    }\n  ]\n}",
              "type": "dataframe",
              "variable_name": "data"
            },
            "text/html": [
              "\n",
              "  <div id=\"df-8d091a27-347c-4f2d-8345-c4209b7411f1\" class=\"colab-df-container\">\n",
              "    <div>\n",
              "<style scoped>\n",
              "    .dataframe tbody tr th:only-of-type {\n",
              "        vertical-align: middle;\n",
              "    }\n",
              "\n",
              "    .dataframe tbody tr th {\n",
              "        vertical-align: top;\n",
              "    }\n",
              "\n",
              "    .dataframe thead th {\n",
              "        text-align: right;\n",
              "    }\n",
              "</style>\n",
              "<table border=\"1\" class=\"dataframe\">\n",
              "  <thead>\n",
              "    <tr style=\"text-align: right;\">\n",
              "      <th></th>\n",
              "      <th>English</th>\n",
              "      <th>Tamil</th>\n",
              "    </tr>\n",
              "  </thead>\n",
              "  <tbody>\n",
              "    <tr>\n",
              "      <th>0</th>\n",
              "      <td>Jens Lehmann became the first player to be sen...</td>\n",
              "      <td>சாமுவேல் எட்டோவை வீழ்த்தியதன் மூலம் ஜென்ஸ் லெஹ...</td>\n",
              "    </tr>\n",
              "    <tr>\n",
              "      <th>1</th>\n",
              "      <td>Nigeria's best chance of the game was also in ...</td>\n",
              "      <td>நைஜீரிய அணிக்கும் கோலை அடிப்பதற்கான சிறந்த வாய...</td>\n",
              "    </tr>\n",
              "    <tr>\n",
              "      <th>2</th>\n",
              "      <td>Williams has previously represented the Wales ...</td>\n",
              "      <td>வில்லியம்ஸ் முன்பு 21 வயதுக்கு உட்பட்டோருக்கான...</td>\n",
              "    </tr>\n",
              "    <tr>\n",
              "      <th>3</th>\n",
              "      <td>Further in the match, Carvajal was yellow card...</td>\n",
              "      <td>மேலும் இந்தப் போட்டியில், கர்வஜலுக்கு 83வது நி...</td>\n",
              "    </tr>\n",
              "    <tr>\n",
              "      <th>4</th>\n",
              "      <td>Yesterday, the German football club FC Bayern ...</td>\n",
              "      <td>நேற்று, ஜெர்மன் கால்பந்து கிளப் எஃப்சி பேயர்ன்...</td>\n",
              "    </tr>\n",
              "    <tr>\n",
              "      <th>...</th>\n",
              "      <td>...</td>\n",
              "      <td>...</td>\n",
              "    </tr>\n",
              "    <tr>\n",
              "      <th>1995</th>\n",
              "      <td>Thrashers goaltender Kari Lethonen was almost ...</td>\n",
              "      <td>த்ராஷர்ஸ் அணியின் கோல்டெண்டர் காரி லெத்தோனென் ...</td>\n",
              "    </tr>\n",
              "    <tr>\n",
              "      <th>1996</th>\n",
              "      <td>In the final period, the Penguins rallied back...</td>\n",
              "      <td>இறுதி கட்டத்தில், பென்குயின்ஸ் அணி பவர் பிளேயி...</td>\n",
              "    </tr>\n",
              "    <tr>\n",
              "      <th>1997</th>\n",
              "      <td>Backed by Thibault's strong play in net, Pengu...</td>\n",
              "      <td>வலையில் திபோல்ட்டின் வலுவான விளையாட்டின் ஆதரவு...</td>\n",
              "    </tr>\n",
              "    <tr>\n",
              "      <th>1998</th>\n",
              "      <td>In the second half of the 20th century, Sattri...</td>\n",
              "      <td>20ஆம் நூற்றாண்டின் இரண்டாம் பாதியில், சத்ரிய ந...</td>\n",
              "    </tr>\n",
              "    <tr>\n",
              "      <th>1999</th>\n",
              "      <td>The Stars outshot the Sharks 18-11 in the firs...</td>\n",
              "      <td>ஸ்டார்ஸ் முதல் ஒடி-இல் ஷார்க்சை 18-11 என்ற கோல...</td>\n",
              "    </tr>\n",
              "  </tbody>\n",
              "</table>\n",
              "<p>2000 rows × 2 columns</p>\n",
              "</div>\n",
              "    <div class=\"colab-df-buttons\">\n",
              "\n",
              "  <div class=\"colab-df-container\">\n",
              "    <button class=\"colab-df-convert\" onclick=\"convertToInteractive('df-8d091a27-347c-4f2d-8345-c4209b7411f1')\"\n",
              "            title=\"Convert this dataframe to an interactive table.\"\n",
              "            style=\"display:none;\">\n",
              "\n",
              "  <svg xmlns=\"http://www.w3.org/2000/svg\" height=\"24px\" viewBox=\"0 -960 960 960\">\n",
              "    <path d=\"M120-120v-720h720v720H120Zm60-500h600v-160H180v160Zm220 220h160v-160H400v160Zm0 220h160v-160H400v160ZM180-400h160v-160H180v160Zm440 0h160v-160H620v160ZM180-180h160v-160H180v160Zm440 0h160v-160H620v160Z\"/>\n",
              "  </svg>\n",
              "    </button>\n",
              "\n",
              "  <style>\n",
              "    .colab-df-container {\n",
              "      display:flex;\n",
              "      gap: 12px;\n",
              "    }\n",
              "\n",
              "    .colab-df-convert {\n",
              "      background-color: #E8F0FE;\n",
              "      border: none;\n",
              "      border-radius: 50%;\n",
              "      cursor: pointer;\n",
              "      display: none;\n",
              "      fill: #1967D2;\n",
              "      height: 32px;\n",
              "      padding: 0 0 0 0;\n",
              "      width: 32px;\n",
              "    }\n",
              "\n",
              "    .colab-df-convert:hover {\n",
              "      background-color: #E2EBFA;\n",
              "      box-shadow: 0px 1px 2px rgba(60, 64, 67, 0.3), 0px 1px 3px 1px rgba(60, 64, 67, 0.15);\n",
              "      fill: #174EA6;\n",
              "    }\n",
              "\n",
              "    .colab-df-buttons div {\n",
              "      margin-bottom: 4px;\n",
              "    }\n",
              "\n",
              "    [theme=dark] .colab-df-convert {\n",
              "      background-color: #3B4455;\n",
              "      fill: #D2E3FC;\n",
              "    }\n",
              "\n",
              "    [theme=dark] .colab-df-convert:hover {\n",
              "      background-color: #434B5C;\n",
              "      box-shadow: 0px 1px 3px 1px rgba(0, 0, 0, 0.15);\n",
              "      filter: drop-shadow(0px 1px 2px rgba(0, 0, 0, 0.3));\n",
              "      fill: #FFFFFF;\n",
              "    }\n",
              "  </style>\n",
              "\n",
              "    <script>\n",
              "      const buttonEl =\n",
              "        document.querySelector('#df-8d091a27-347c-4f2d-8345-c4209b7411f1 button.colab-df-convert');\n",
              "      buttonEl.style.display =\n",
              "        google.colab.kernel.accessAllowed ? 'block' : 'none';\n",
              "\n",
              "      async function convertToInteractive(key) {\n",
              "        const element = document.querySelector('#df-8d091a27-347c-4f2d-8345-c4209b7411f1');\n",
              "        const dataTable =\n",
              "          await google.colab.kernel.invokeFunction('convertToInteractive',\n",
              "                                                    [key], {});\n",
              "        if (!dataTable) return;\n",
              "\n",
              "        const docLinkHtml = 'Like what you see? Visit the ' +\n",
              "          '<a target=\"_blank\" href=https://colab.research.google.com/notebooks/data_table.ipynb>data table notebook</a>'\n",
              "          + ' to learn more about interactive tables.';\n",
              "        element.innerHTML = '';\n",
              "        dataTable['output_type'] = 'display_data';\n",
              "        await google.colab.output.renderOutput(dataTable, element);\n",
              "        const docLink = document.createElement('div');\n",
              "        docLink.innerHTML = docLinkHtml;\n",
              "        element.appendChild(docLink);\n",
              "      }\n",
              "    </script>\n",
              "  </div>\n",
              "\n",
              "\n",
              "<div id=\"df-748ae318-037a-4e27-87be-e6ca98501f8b\">\n",
              "  <button class=\"colab-df-quickchart\" onclick=\"quickchart('df-748ae318-037a-4e27-87be-e6ca98501f8b')\"\n",
              "            title=\"Suggest charts\"\n",
              "            style=\"display:none;\">\n",
              "\n",
              "<svg xmlns=\"http://www.w3.org/2000/svg\" height=\"24px\"viewBox=\"0 0 24 24\"\n",
              "     width=\"24px\">\n",
              "    <g>\n",
              "        <path d=\"M19 3H5c-1.1 0-2 .9-2 2v14c0 1.1.9 2 2 2h14c1.1 0 2-.9 2-2V5c0-1.1-.9-2-2-2zM9 17H7v-7h2v7zm4 0h-2V7h2v10zm4 0h-2v-4h2v4z\"/>\n",
              "    </g>\n",
              "</svg>\n",
              "  </button>\n",
              "\n",
              "<style>\n",
              "  .colab-df-quickchart {\n",
              "      --bg-color: #E8F0FE;\n",
              "      --fill-color: #1967D2;\n",
              "      --hover-bg-color: #E2EBFA;\n",
              "      --hover-fill-color: #174EA6;\n",
              "      --disabled-fill-color: #AAA;\n",
              "      --disabled-bg-color: #DDD;\n",
              "  }\n",
              "\n",
              "  [theme=dark] .colab-df-quickchart {\n",
              "      --bg-color: #3B4455;\n",
              "      --fill-color: #D2E3FC;\n",
              "      --hover-bg-color: #434B5C;\n",
              "      --hover-fill-color: #FFFFFF;\n",
              "      --disabled-bg-color: #3B4455;\n",
              "      --disabled-fill-color: #666;\n",
              "  }\n",
              "\n",
              "  .colab-df-quickchart {\n",
              "    background-color: var(--bg-color);\n",
              "    border: none;\n",
              "    border-radius: 50%;\n",
              "    cursor: pointer;\n",
              "    display: none;\n",
              "    fill: var(--fill-color);\n",
              "    height: 32px;\n",
              "    padding: 0;\n",
              "    width: 32px;\n",
              "  }\n",
              "\n",
              "  .colab-df-quickchart:hover {\n",
              "    background-color: var(--hover-bg-color);\n",
              "    box-shadow: 0 1px 2px rgba(60, 64, 67, 0.3), 0 1px 3px 1px rgba(60, 64, 67, 0.15);\n",
              "    fill: var(--button-hover-fill-color);\n",
              "  }\n",
              "\n",
              "  .colab-df-quickchart-complete:disabled,\n",
              "  .colab-df-quickchart-complete:disabled:hover {\n",
              "    background-color: var(--disabled-bg-color);\n",
              "    fill: var(--disabled-fill-color);\n",
              "    box-shadow: none;\n",
              "  }\n",
              "\n",
              "  .colab-df-spinner {\n",
              "    border: 2px solid var(--fill-color);\n",
              "    border-color: transparent;\n",
              "    border-bottom-color: var(--fill-color);\n",
              "    animation:\n",
              "      spin 1s steps(1) infinite;\n",
              "  }\n",
              "\n",
              "  @keyframes spin {\n",
              "    0% {\n",
              "      border-color: transparent;\n",
              "      border-bottom-color: var(--fill-color);\n",
              "      border-left-color: var(--fill-color);\n",
              "    }\n",
              "    20% {\n",
              "      border-color: transparent;\n",
              "      border-left-color: var(--fill-color);\n",
              "      border-top-color: var(--fill-color);\n",
              "    }\n",
              "    30% {\n",
              "      border-color: transparent;\n",
              "      border-left-color: var(--fill-color);\n",
              "      border-top-color: var(--fill-color);\n",
              "      border-right-color: var(--fill-color);\n",
              "    }\n",
              "    40% {\n",
              "      border-color: transparent;\n",
              "      border-right-color: var(--fill-color);\n",
              "      border-top-color: var(--fill-color);\n",
              "    }\n",
              "    60% {\n",
              "      border-color: transparent;\n",
              "      border-right-color: var(--fill-color);\n",
              "    }\n",
              "    80% {\n",
              "      border-color: transparent;\n",
              "      border-right-color: var(--fill-color);\n",
              "      border-bottom-color: var(--fill-color);\n",
              "    }\n",
              "    90% {\n",
              "      border-color: transparent;\n",
              "      border-bottom-color: var(--fill-color);\n",
              "    }\n",
              "  }\n",
              "</style>\n",
              "\n",
              "  <script>\n",
              "    async function quickchart(key) {\n",
              "      const quickchartButtonEl =\n",
              "        document.querySelector('#' + key + ' button');\n",
              "      quickchartButtonEl.disabled = true;  // To prevent multiple clicks.\n",
              "      quickchartButtonEl.classList.add('colab-df-spinner');\n",
              "      try {\n",
              "        const charts = await google.colab.kernel.invokeFunction(\n",
              "            'suggestCharts', [key], {});\n",
              "      } catch (error) {\n",
              "        console.error('Error during call to suggestCharts:', error);\n",
              "      }\n",
              "      quickchartButtonEl.classList.remove('colab-df-spinner');\n",
              "      quickchartButtonEl.classList.add('colab-df-quickchart-complete');\n",
              "    }\n",
              "    (() => {\n",
              "      let quickchartButtonEl =\n",
              "        document.querySelector('#df-748ae318-037a-4e27-87be-e6ca98501f8b button');\n",
              "      quickchartButtonEl.style.display =\n",
              "        google.colab.kernel.accessAllowed ? 'block' : 'none';\n",
              "    })();\n",
              "  </script>\n",
              "</div>\n",
              "\n",
              "  <div id=\"id_cc087b2b-ad7e-4dce-91bf-775e716e238a\">\n",
              "    <style>\n",
              "      .colab-df-generate {\n",
              "        background-color: #E8F0FE;\n",
              "        border: none;\n",
              "        border-radius: 50%;\n",
              "        cursor: pointer;\n",
              "        display: none;\n",
              "        fill: #1967D2;\n",
              "        height: 32px;\n",
              "        padding: 0 0 0 0;\n",
              "        width: 32px;\n",
              "      }\n",
              "\n",
              "      .colab-df-generate:hover {\n",
              "        background-color: #E2EBFA;\n",
              "        box-shadow: 0px 1px 2px rgba(60, 64, 67, 0.3), 0px 1px 3px 1px rgba(60, 64, 67, 0.15);\n",
              "        fill: #174EA6;\n",
              "      }\n",
              "\n",
              "      [theme=dark] .colab-df-generate {\n",
              "        background-color: #3B4455;\n",
              "        fill: #D2E3FC;\n",
              "      }\n",
              "\n",
              "      [theme=dark] .colab-df-generate:hover {\n",
              "        background-color: #434B5C;\n",
              "        box-shadow: 0px 1px 3px 1px rgba(0, 0, 0, 0.15);\n",
              "        filter: drop-shadow(0px 1px 2px rgba(0, 0, 0, 0.3));\n",
              "        fill: #FFFFFF;\n",
              "      }\n",
              "    </style>\n",
              "    <button class=\"colab-df-generate\" onclick=\"generateWithVariable('data')\"\n",
              "            title=\"Generate code using this dataframe.\"\n",
              "            style=\"display:none;\">\n",
              "\n",
              "  <svg xmlns=\"http://www.w3.org/2000/svg\" height=\"24px\"viewBox=\"0 0 24 24\"\n",
              "       width=\"24px\">\n",
              "    <path d=\"M7,19H8.4L18.45,9,17,7.55,7,17.6ZM5,21V16.75L18.45,3.32a2,2,0,0,1,2.83,0l1.4,1.43a1.91,1.91,0,0,1,.58,1.4,1.91,1.91,0,0,1-.58,1.4L9.25,21ZM18.45,9,17,7.55Zm-12,3A5.31,5.31,0,0,0,4.9,8.1,5.31,5.31,0,0,0,1,6.5,5.31,5.31,0,0,0,4.9,4.9,5.31,5.31,0,0,0,6.5,1,5.31,5.31,0,0,0,8.1,4.9,5.31,5.31,0,0,0,12,6.5,5.46,5.46,0,0,0,6.5,12Z\"/>\n",
              "  </svg>\n",
              "    </button>\n",
              "    <script>\n",
              "      (() => {\n",
              "      const buttonEl =\n",
              "        document.querySelector('#id_cc087b2b-ad7e-4dce-91bf-775e716e238a button.colab-df-generate');\n",
              "      buttonEl.style.display =\n",
              "        google.colab.kernel.accessAllowed ? 'block' : 'none';\n",
              "\n",
              "      buttonEl.onclick = () => {\n",
              "        google.colab.notebook.generateWithVariable('data');\n",
              "      }\n",
              "      })();\n",
              "    </script>\n",
              "  </div>\n",
              "\n",
              "    </div>\n",
              "  </div>\n"
            ],
            "text/plain": [
              "                                                English  \\\n",
              "0     Jens Lehmann became the first player to be sen...   \n",
              "1     Nigeria's best chance of the game was also in ...   \n",
              "2     Williams has previously represented the Wales ...   \n",
              "3     Further in the match, Carvajal was yellow card...   \n",
              "4     Yesterday, the German football club FC Bayern ...   \n",
              "...                                                 ...   \n",
              "1995  Thrashers goaltender Kari Lethonen was almost ...   \n",
              "1996  In the final period, the Penguins rallied back...   \n",
              "1997  Backed by Thibault's strong play in net, Pengu...   \n",
              "1998  In the second half of the 20th century, Sattri...   \n",
              "1999  The Stars outshot the Sharks 18-11 in the firs...   \n",
              "\n",
              "                                                  Tamil  \n",
              "0     சாமுவேல் எட்டோவை வீழ்த்தியதன் மூலம் ஜென்ஸ் லெஹ...  \n",
              "1     நைஜீரிய அணிக்கும் கோலை அடிப்பதற்கான சிறந்த வாய...  \n",
              "2     வில்லியம்ஸ் முன்பு 21 வயதுக்கு உட்பட்டோருக்கான...  \n",
              "3     மேலும் இந்தப் போட்டியில், கர்வஜலுக்கு 83வது நி...  \n",
              "4     நேற்று, ஜெர்மன் கால்பந்து கிளப் எஃப்சி பேயர்ன்...  \n",
              "...                                                 ...  \n",
              "1995  த்ராஷர்ஸ் அணியின் கோல்டெண்டர் காரி லெத்தோனென் ...  \n",
              "1996  இறுதி கட்டத்தில், பென்குயின்ஸ் அணி பவர் பிளேயி...  \n",
              "1997  வலையில் திபோல்ட்டின் வலுவான விளையாட்டின் ஆதரவு...  \n",
              "1998  20ஆம் நூற்றாண்டின் இரண்டாம் பாதியில், சத்ரிய ந...  \n",
              "1999  ஸ்டார்ஸ் முதல் ஒடி-இல் ஷார்க்சை 18-11 என்ற கோல...  \n",
              "\n",
              "[2000 rows x 2 columns]"
            ]
          },
          "execution_count": 117,
          "metadata": {},
          "output_type": "execute_result"
        }
      ],
      "source": [
        "data"
      ]
    },
    {
      "cell_type": "code",
      "execution_count": null,
      "metadata": {
        "id": "Ue1Q35f9Ndoo"
      },
      "outputs": [],
      "source": [
        "from tensorflow.keras.models import Model\n",
        "from tensorflow.keras.layers import Input, LSTM, Dense, Embedding\n",
        "from tensorflow.keras.preprocessing.text import Tokenizer\n",
        "from tensorflow.keras.preprocessing.sequence import pad_sequences"
      ]
    },
    {
      "cell_type": "code",
      "execution_count": null,
      "metadata": {
        "colab": {
          "base_uri": "https://localhost:8080/"
        },
        "id": "ZICdYfexG6-R",
        "outputId": "58bfccf6-e9c7-4cbe-bbdd-f14008c0925b"
      },
      "outputs": [
        {
          "data": {
            "text/plain": [
              "(6000,)"
            ]
          },
          "execution_count": 95,
          "metadata": {},
          "output_type": "execute_result"
        }
      ],
      "source": [
        "data['English'].shape"
      ]
    },
    {
      "cell_type": "code",
      "execution_count": null,
      "metadata": {
        "colab": {
          "base_uri": "https://localhost:8080/"
        },
        "id": "HxqKRfOtHkUo",
        "outputId": "ae509c7a-b628-47d5-8c0c-2b7b7f0dc073"
      },
      "outputs": [
        {
          "data": {
            "text/plain": [
              "6000"
            ]
          },
          "execution_count": 96,
          "metadata": {},
          "output_type": "execute_result"
        }
      ],
      "source": [
        "len(data['Tamil'])"
      ]
    },
    {
      "cell_type": "code",
      "execution_count": null,
      "metadata": {
        "colab": {
          "base_uri": "https://localhost:8080/",
          "height": 53
        },
        "id": "4iZtCvCiEXLA",
        "outputId": "1a2b4b25-eb01-41b6-d9d4-314363f16a61"
      },
      "outputs": [
        {
          "data": {
            "application/vnd.google.colaboratory.intrinsic+json": {
              "type": "string"
            },
            "text/plain": [
              "'<start> சாமுவேல் எட்டோவை வீழ்த்தியதன் மூலம் ஜென்ஸ் லெஹ்மன் இறுதிப் போட்டியில் வெளியேற்றப்பட்ட முதல் வீரரானார்.\\n <end>'"
            ]
          },
          "execution_count": 97,
          "metadata": {},
          "output_type": "execute_result"
        }
      ],
      "source": [
        "data['Tamil'][0]"
      ]
    },
    {
      "cell_type": "code",
      "source": [
        "import numpy as np\n",
        "from tensorflow.keras.preprocessing.text import Tokenizer\n",
        "from tensorflow.keras.preprocessing.sequence import pad_sequences\n",
        "from tensorflow.keras.models import Model\n",
        "from tensorflow.keras.layers import Input, LSTM, Dense, Embedding\n"
      ],
      "metadata": {
        "id": "uiMk_AkOREhJ"
      },
      "execution_count": null,
      "outputs": []
    },
    {
      "cell_type": "code",
      "source": [
        "english_tokenizer = Tokenizer()\n",
        "tamil_tokenizer = Tokenizer()\n",
        "\n",
        "data['Tamil'] = data['Tamil'].apply(lambda x: '<start> ' + x + ' <end>')\n"
      ],
      "metadata": {
        "id": "W_n8nvfYRH6r"
      },
      "execution_count": null,
      "outputs": []
    },
    {
      "cell_type": "code",
      "source": [
        "english_tokenizer.fit_on_texts(data['English'])\n",
        "tamil_tokenizer.fit_on_texts(data['Tamil'])\n",
        "\n",
        "english_sequences = english_tokenizer.texts_to_sequences(data['English'])\n",
        "tamil_sequences = tamil_tokenizer.texts_to_sequences(data['Tamil'])"
      ],
      "metadata": {
        "id": "6n8nKAk5RKK_"
      },
      "execution_count": null,
      "outputs": []
    },
    {
      "cell_type": "code",
      "source": [
        "max_english_length = max([len(seq) for seq in english_sequences])\n",
        "max_tamil_length = max([len(seq) for seq in tamil_sequences])\n",
        "\n",
        "english_padded = pad_sequences(english_sequences, maxlen=max_english_length, padding='post')\n",
        "tamil_padded = pad_sequences(tamil_sequences, maxlen=max_tamil_length, padding='post')"
      ],
      "metadata": {
        "id": "ZY5Hi-BaRNX4"
      },
      "execution_count": null,
      "outputs": []
    },
    {
      "cell_type": "code",
      "source": [
        "# Encoder Model\n",
        "encoder_inputs = Input(shape=(max_english_length,))\n",
        "encoder_embedding = Embedding(input_dim=len(english_tokenizer.word_index)+1, output_dim=128)(encoder_inputs)\n",
        "encoder_lstm = LSTM(256, return_state=True)\n",
        "encoder_outputs, state_h, state_c = encoder_lstm(encoder_embedding)\n",
        "encoder_states = [state_h, state_c]"
      ],
      "metadata": {
        "id": "mDKrdxUvRPYF"
      },
      "execution_count": null,
      "outputs": []
    },
    {
      "cell_type": "code",
      "source": [
        "# Decoder Model\n",
        "decoder_inputs = Input(shape=(max_tamil_length - 1,))\n",
        "decoder_embedding = Embedding(input_dim=len(tamil_tokenizer.word_index)+1, output_dim=256)(decoder_inputs)\n",
        "decoder_lstm = LSTM(256, return_sequences=True, return_state=True)\n",
        "decoder_outputs, _, _ = decoder_lstm(decoder_embedding, initial_state=encoder_states)\n",
        "decoder_dense = Dense(len(tamil_tokenizer.word_index) + 1, activation='softmax')\n",
        "decoder_outputs = decoder_dense(decoder_outputs)"
      ],
      "metadata": {
        "id": "ctyrc5XyRQ-x"
      },
      "execution_count": null,
      "outputs": []
    },
    {
      "cell_type": "code",
      "source": [
        "# Seq2Seq Model\n",
        "model = Model([encoder_inputs, decoder_inputs], decoder_outputs)"
      ],
      "metadata": {
        "id": "knkttstPRUpd"
      },
      "execution_count": null,
      "outputs": []
    },
    {
      "cell_type": "code",
      "source": [
        "# Compile the model\n",
        "model.compile(optimizer='adam', loss='sparse_categorical_crossentropy', metrics=['accuracy'])"
      ],
      "metadata": {
        "id": "6Hws73alRWT8"
      },
      "execution_count": null,
      "outputs": []
    },
    {
      "cell_type": "code",
      "source": [
        "# Train the model\n",
        "model.fit(\n",
        "    [english_padded, tamil_padded[:, :-1]],\n",
        "    tamil_padded[:, 1:],\n",
        "    batch_size=64,\n",
        "    epochs=30,\n",
        "    validation_split=0.2\n",
        ")"
      ],
      "metadata": {
        "id": "sdepm-pARY5J"
      },
      "execution_count": null,
      "outputs": []
    },
    {
      "cell_type": "code",
      "source": [
        "# Encoder Model for Inference\n",
        "encoder_model = Model(encoder_inputs, encoder_states)"
      ],
      "metadata": {
        "id": "YMkcPgJiRdVz"
      },
      "execution_count": null,
      "outputs": []
    },
    {
      "cell_type": "code",
      "source": [
        "# Decoder Model for Inference\n",
        "decoder_state_input_h = Input(shape=(256,))\n",
        "decoder_state_input_c = Input(shape=(256,))\n",
        "decoder_states_inputs = [decoder_state_input_h, decoder_state_input_c]\n",
        "decoder_embedding_inference = Embedding(input_dim=len(tamil_tokenizer.word_index)+1, output_dim=256)(decoder_inputs)\n",
        "decoder_outputs, state_h, state_c = decoder_lstm(decoder_embedding_inference, initial_state=decoder_states_inputs)\n",
        "decoder_states = [state_h, state_c]\n",
        "decoder_outputs = decoder_dense(decoder_outputs)\n",
        "\n",
        "decoder_model = Model([decoder_inputs] + decoder_states_inputs, [decoder_outputs] + decoder_states)"
      ],
      "metadata": {
        "id": "IMlmjiQ7RfYZ"
      },
      "execution_count": null,
      "outputs": []
    },
    {
      "cell_type": "code",
      "source": [
        "# Translation Function\n",
        "def translate_sentence(input_text):\n",
        "    # Tokenize and pad the input English sentence\n",
        "    input_seq = english_tokenizer.texts_to_sequences([input_text])\n",
        "    input_seq = pad_sequences(input_seq, maxlen=max_english_length, padding='post')\n",
        "\n",
        "    # Get the encoder states\n",
        "    states_value = encoder_model.predict(input_seq)\n",
        "\n",
        "    # Initialize the target sequence with the <start> token\n",
        "    target_seq = np.zeros((1, 1))\n",
        "    target_seq[0, 0] = tamil_tokenizer.word_index.get('<start>', 1)\n",
        "\n",
        "    stop_condition = False\n",
        "    decoded_sentence = []\n",
        "\n",
        "    while not stop_condition:\n",
        "        # Predict the next token in the sequence\n",
        "        output_tokens, h, c = decoder_model.predict([target_seq] + states_value)\n",
        "\n",
        "        # Get the most probable next token\n",
        "        sampled_token_index = np.argmax(output_tokens[0, -1, :])\n",
        "        sampled_word = tamil_tokenizer.index_word.get(sampled_token_index, '')\n",
        "\n",
        "        # Stop if we reach the <end> token or exceed the max length\n",
        "        if sampled_word == '<end>' or len(decoded_sentence) > max_tamil_length:\n",
        "            stop_condition = True\n",
        "        else:\n",
        "            decoded_sentence.append(sampled_word)\n",
        "\n",
        "        # Update target sequence and states\n",
        "        target_seq = np.zeros((1, 1))\n",
        "        target_seq[0, 0] = sampled_token_index\n",
        "        states_value = [h, c]\n",
        "\n",
        "    return \" \".join(decoded_sentence).strip()"
      ],
      "metadata": {
        "id": "SncT7i61RmF1"
      },
      "execution_count": null,
      "outputs": []
    },
    {
      "cell_type": "code",
      "execution_count": null,
      "metadata": {
        "colab": {
          "background_save": true,
          "base_uri": "https://localhost:8080/"
        },
        "id": "L8fQvEVC7CfW",
        "outputId": "3930fe08-ae47-455c-a141-c7b13fdb6135"
      },
      "outputs": [
        {
          "name": "stdout",
          "output_type": "stream",
          "text": [
            "Epoch 1/10\n",
            "\u001b[1m100/100\u001b[0m \u001b[32m━━━━━━━━━━━━━━━━━━━━\u001b[0m\u001b[37m\u001b[0m \u001b[1m1447s\u001b[0m 14s/step - accuracy: 0.7129 - loss: 5.3450 - val_accuracy: 0.8011 - val_loss: 2.0391\n",
            "Epoch 2/10\n",
            "\u001b[1m100/100\u001b[0m \u001b[32m━━━━━━━━━━━━━━━━━━━━\u001b[0m\u001b[37m\u001b[0m \u001b[1m1460s\u001b[0m 14s/step - accuracy: 0.7824 - loss: 2.0507 - val_accuracy: 0.8015 - val_loss: 2.0299\n",
            "Epoch 3/10\n",
            "\u001b[1m100/100\u001b[0m \u001b[32m━━━━━━━━━━━━━━━━━━━━\u001b[0m\u001b[37m\u001b[0m \u001b[1m1464s\u001b[0m 14s/step - accuracy: 0.7836 - loss: 1.9884 - val_accuracy: 0.8021 - val_loss: 2.0297\n",
            "Epoch 4/10\n",
            "\u001b[1m100/100\u001b[0m \u001b[32m━━━━━━━━━━━━━━━━━━━━\u001b[0m\u001b[37m\u001b[0m \u001b[1m1455s\u001b[0m 14s/step - accuracy: 0.7838 - loss: 1.9584 - val_accuracy: 0.8022 - val_loss: 2.0433\n",
            "Epoch 5/10\n",
            "\u001b[1m100/100\u001b[0m \u001b[32m━━━━━━━━━━━━━━━━━━━━\u001b[0m\u001b[37m\u001b[0m \u001b[1m1446s\u001b[0m 14s/step - accuracy: 0.7828 - loss: 1.9331 - val_accuracy: 0.8025 - val_loss: 2.0548\n",
            "Epoch 6/10\n",
            "\u001b[1m100/100\u001b[0m \u001b[32m━━━━━━━━━━━━━━━━━━━━\u001b[0m\u001b[37m\u001b[0m \u001b[1m1453s\u001b[0m 14s/step - accuracy: 0.7852 - loss: 1.8830 - val_accuracy: 0.8021 - val_loss: 2.0754\n",
            "Epoch 7/10\n",
            "\u001b[1m100/100\u001b[0m \u001b[32m━━━━━━━━━━━━━━━━━━━━\u001b[0m\u001b[37m\u001b[0m \u001b[1m1465s\u001b[0m 14s/step - accuracy: 0.7867 - loss: 1.8401 - val_accuracy: 0.8015 - val_loss: 2.0965\n",
            "Epoch 8/10\n",
            "\u001b[1m100/100\u001b[0m \u001b[32m━━━━━━━━━━━━━━━━━━━━\u001b[0m\u001b[37m\u001b[0m \u001b[1m1445s\u001b[0m 14s/step - accuracy: 0.7853 - loss: 1.8199 - val_accuracy: 0.8010 - val_loss: 2.1019\n",
            "Epoch 9/10\n",
            "\u001b[1m 73/100\u001b[0m \u001b[32m━━━━━━━━━━━━━━\u001b[0m\u001b[37m━━━━━━\u001b[0m \u001b[1m5:39\u001b[0m 13s/step - accuracy: 0.7885 - loss: 1.7557"
          ]
        }
      ],
      "source": [
        "# Example sentence for translation\n",
        "test_sentence = \"Jens Lehmann became the first player to be\"\n",
        "translated_sentence = translate_sentence(test_sentence)\n",
        "\n",
        "print(\"English:\", test_sentence)\n",
        "print(\"Tamil:\", translated_sentence)\n"
      ]
    },
    {
      "cell_type": "code",
      "execution_count": null,
      "metadata": {
        "colab": {
          "base_uri": "https://localhost:8080/"
        },
        "id": "Vh2drNiI34zb",
        "outputId": "1fde1093-1bd8-4666-cf64-09917cace93e"
      },
      "outputs": [
        {
          "name": "stdout",
          "output_type": "stream",
          "text": [
            "1/1 [==============================] - 0s 28ms/step\n",
            "1/1 [==============================] - 0s 25ms/step\n",
            "1/1 [==============================] - 0s 25ms/step\n",
            "1/1 [==============================] - 0s 25ms/step\n",
            "1/1 [==============================] - 0s 25ms/step\n",
            "1/1 [==============================] - 0s 25ms/step\n",
            "1/1 [==============================] - 0s 26ms/step\n",
            "1/1 [==============================] - 0s 26ms/step\n",
            "1/1 [==============================] - 0s 26ms/step\n",
            "1/1 [==============================] - 0s 26ms/step\n",
            "1/1 [==============================] - 0s 26ms/step\n",
            "1/1 [==============================] - 0s 25ms/step\n",
            "1/1 [==============================] - 0s 26ms/step\n",
            "1/1 [==============================] - 0s 25ms/step\n",
            "1/1 [==============================] - 0s 24ms/step\n",
            "1/1 [==============================] - 0s 24ms/step\n",
            "1/1 [==============================] - 0s 25ms/step\n",
            "1/1 [==============================] - 0s 26ms/step\n",
            "1/1 [==============================] - 0s 26ms/step\n",
            "1/1 [==============================] - 0s 26ms/step\n",
            "1/1 [==============================] - 0s 27ms/step\n",
            "1/1 [==============================] - 0s 26ms/step\n",
            "1/1 [==============================] - 0s 28ms/step\n",
            "1/1 [==============================] - 0s 26ms/step\n",
            "1/1 [==============================] - 0s 26ms/step\n",
            "1/1 [==============================] - 0s 25ms/step\n",
            "1/1 [==============================] - 0s 26ms/step\n",
            "1/1 [==============================] - 0s 26ms/step\n",
            "1/1 [==============================] - 0s 26ms/step\n",
            "1/1 [==============================] - 0s 27ms/step\n",
            "1/1 [==============================] - 0s 25ms/step\n",
            "1/1 [==============================] - 0s 26ms/step\n",
            "1/1 [==============================] - 0s 27ms/step\n",
            "1/1 [==============================] - 0s 27ms/step\n",
            "1/1 [==============================] - 0s 27ms/step\n",
            "1/1 [==============================] - 0s 28ms/step\n",
            "1/1 [==============================] - 0s 27ms/step\n",
            "1/1 [==============================] - 0s 29ms/step\n",
            "1/1 [==============================] - 0s 27ms/step\n",
            "1/1 [==============================] - 0s 26ms/step\n",
            "1/1 [==============================] - 0s 28ms/step\n",
            "1/1 [==============================] - 0s 27ms/step\n",
            "1/1 [==============================] - 0s 25ms/step\n",
            "1/1 [==============================] - 0s 27ms/step\n",
            "1/1 [==============================] - 0s 28ms/step\n",
            "1/1 [==============================] - 0s 28ms/step\n",
            "English: player\n",
            "Tamil: இந்த ஒரு ஒரு ஒரு ஒரு ஒரு ஒரு ஒரு ஒரு ஒரு ஒரு ஒரு கோல் அடித்தார் end end end end end end end end end end end end end end end end end\n"
          ]
        }
      ],
      "source": [
        "# Example sentence for translation\n",
        "test_sentence = \"player\"\n",
        "translated_sentence = translate_sentence(test_sentence)\n",
        "\n",
        "print(\"English:\", test_sentence)\n",
        "print(\"Tamil:\", translated_sentence)\n"
      ]
    },
    {
      "cell_type": "markdown",
      "source": [],
      "metadata": {
        "id": "6yjQg9SwhtQk"
      }
    },
    {
      "cell_type": "code",
      "execution_count": null,
      "metadata": {
        "id": "K3pyHHyqe1oy"
      },
      "outputs": [],
      "source": [
        "model.save('my_model.keras')"
      ]
    },
    {
      "cell_type": "code",
      "execution_count": null,
      "metadata": {
        "colab": {
          "base_uri": "https://localhost:8080/"
        },
        "id": "_XWsxx0YsC_B",
        "outputId": "82648001-3ee8-4990-9690-ea304496076b"
      },
      "outputs": [
        {
          "name": "stderr",
          "output_type": "stream",
          "text": [
            "WARNING:absl:You are saving your model as an HDF5 file via `model.save()` or `keras.saving.save_model(model)`. This file format is considered legacy. We recommend using instead the native Keras format, e.g. `model.save('my_model.keras')` or `keras.saving.save_model(model, 'my_model.keras')`. \n"
          ]
        }
      ],
      "source": [
        "model.save(\"Finalh5.h5\") # Change the file extension to '.keras'"
      ]
    },
    {
      "cell_type": "code",
      "execution_count": null,
      "metadata": {
        "id": "f-uOtT0ZgF0d"
      },
      "outputs": [],
      "source": [
        "joblib.load('my_model_joblib')"
      ]
    },
    {
      "cell_type": "code",
      "execution_count": null,
      "metadata": {
        "id": "bw6n7Am_gdF7"
      },
      "outputs": [],
      "source": [
        "import pickle\n",
        "\n",
        "# Save the model as a pickle file\n",
        "with open(\"model_pkl.pkl\", \"wb\") as file:\n",
        "    pickle.dump(model, file)\n"
      ]
    }
  ],
  "metadata": {
    "accelerator": "TPU",
    "colab": {
      "gpuType": "V28",
      "provenance": []
    },
    "kernelspec": {
      "display_name": "Python 3",
      "name": "python3"
    },
    "language_info": {
      "name": "python"
    }
  },
  "nbformat": 4,
  "nbformat_minor": 0
}